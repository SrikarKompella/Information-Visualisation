{
 "cells": [
  {
   "cell_type": "code",
   "execution_count": 2,
   "metadata": {},
   "outputs": [],
   "source": [
    "import pandas as pd"
   ]
  },
  {
   "cell_type": "code",
   "execution_count": 4,
   "metadata": {},
   "outputs": [],
   "source": [
    "aiddata = pd.read_csv(\"/Users/Bayernlad/Desktop/InfoViz/Viz1/Q2/Viz2Data1.csv\")\n",
    "aiddata.loc[21, 'Country'] = \"South Korea\"\n",
    "aiddata.loc[36,'Country']=\"Slovakia\""
   ]
  },
  {
   "cell_type": "code",
   "execution_count": 6,
   "metadata": {},
   "outputs": [
    {
     "data": {
      "text/html": [
       "<div>\n",
       "<style scoped>\n",
       "    .dataframe tbody tr th:only-of-type {\n",
       "        vertical-align: middle;\n",
       "    }\n",
       "\n",
       "    .dataframe tbody tr th {\n",
       "        vertical-align: top;\n",
       "    }\n",
       "\n",
       "    .dataframe thead th {\n",
       "        text-align: right;\n",
       "    }\n",
       "</style>\n",
       "<table border=\"1\" class=\"dataframe\">\n",
       "  <thead>\n",
       "    <tr style=\"text-align: right;\">\n",
       "      <th></th>\n",
       "      <th>Unnamed: 0</th>\n",
       "      <th>Country</th>\n",
       "      <th>AmountDonated</th>\n",
       "      <th>AmountReceived</th>\n",
       "      <th>Total</th>\n",
       "    </tr>\n",
       "  </thead>\n",
       "  <tbody>\n",
       "    <tr>\n",
       "      <th>0</th>\n",
       "      <td>0</td>\n",
       "      <td>Australia</td>\n",
       "      <td>2.446616e+09</td>\n",
       "      <td>2.572618e+09</td>\n",
       "      <td>5.019235e+09</td>\n",
       "    </tr>\n",
       "    <tr>\n",
       "      <th>1</th>\n",
       "      <td>1</td>\n",
       "      <td>Austria</td>\n",
       "      <td>7.840690e+08</td>\n",
       "      <td>7.702674e+08</td>\n",
       "      <td>1.554336e+09</td>\n",
       "    </tr>\n",
       "    <tr>\n",
       "      <th>2</th>\n",
       "      <td>2</td>\n",
       "      <td>Belgium</td>\n",
       "      <td>2.144445e+09</td>\n",
       "      <td>1.843462e+08</td>\n",
       "      <td>2.328792e+09</td>\n",
       "    </tr>\n",
       "    <tr>\n",
       "      <th>3</th>\n",
       "      <td>3</td>\n",
       "      <td>Brazil</td>\n",
       "      <td>1.134440e+06</td>\n",
       "      <td>3.660726e+10</td>\n",
       "      <td>3.660839e+10</td>\n",
       "    </tr>\n",
       "    <tr>\n",
       "      <th>4</th>\n",
       "      <td>4</td>\n",
       "      <td>Canada</td>\n",
       "      <td>7.466338e+09</td>\n",
       "      <td>4.068653e+09</td>\n",
       "      <td>1.153499e+10</td>\n",
       "    </tr>\n",
       "  </tbody>\n",
       "</table>\n",
       "</div>"
      ],
      "text/plain": [
       "   Unnamed: 0    Country  AmountDonated  AmountReceived         Total\n",
       "0           0  Australia   2.446616e+09    2.572618e+09  5.019235e+09\n",
       "1           1    Austria   7.840690e+08    7.702674e+08  1.554336e+09\n",
       "2           2    Belgium   2.144445e+09    1.843462e+08  2.328792e+09\n",
       "3           3     Brazil   1.134440e+06    3.660726e+10  3.660839e+10\n",
       "4           4     Canada   7.466338e+09    4.068653e+09  1.153499e+10"
      ]
     },
     "execution_count": 6,
     "metadata": {},
     "output_type": "execute_result"
    }
   ],
   "source": [
    "aiddata.head()"
   ]
  },
  {
   "cell_type": "code",
   "execution_count": 8,
   "metadata": {},
   "outputs": [],
   "source": [
    "countrydata = pd.read_json('/Users/Bayernlad/Desktop/InfoViz/Viz1/Q2/capital-geo.json ')"
   ]
  },
  {
   "cell_type": "code",
   "execution_count": 9,
   "metadata": {},
   "outputs": [],
   "source": [
    "countrydata=countrydata.rename(columns={'CountryName':'Country'})"
   ]
  },
  {
   "cell_type": "code",
   "execution_count": null,
   "metadata": {},
   "outputs": [],
   "source": []
  },
  {
   "cell_type": "code",
   "execution_count": 10,
   "metadata": {},
   "outputs": [],
   "source": [
    "result = pd.merge(aiddata,\n",
    "                 countrydata,\n",
    "                 on='Country')"
   ]
  },
  {
   "cell_type": "code",
   "execution_count": 46,
   "metadata": {},
   "outputs": [],
   "source": [
    "result.to_csv('Viz2data.csv')"
   ]
  },
  {
   "cell_type": "code",
   "execution_count": 11,
   "metadata": {},
   "outputs": [
    {
     "data": {
      "text/html": [
       "<div>\n",
       "<style scoped>\n",
       "    .dataframe tbody tr th:only-of-type {\n",
       "        vertical-align: middle;\n",
       "    }\n",
       "\n",
       "    .dataframe tbody tr th {\n",
       "        vertical-align: top;\n",
       "    }\n",
       "\n",
       "    .dataframe thead th {\n",
       "        text-align: right;\n",
       "    }\n",
       "</style>\n",
       "<table border=\"1\" class=\"dataframe\">\n",
       "  <thead>\n",
       "    <tr style=\"text-align: right;\">\n",
       "      <th></th>\n",
       "      <th>Unnamed: 0</th>\n",
       "      <th>Country</th>\n",
       "      <th>AmountDonated</th>\n",
       "      <th>AmountReceived</th>\n",
       "      <th>Total</th>\n",
       "      <th>CapitalLatitude</th>\n",
       "      <th>CapitalLongitude</th>\n",
       "      <th>CapitalName</th>\n",
       "      <th>ContinentName</th>\n",
       "      <th>CountryCode</th>\n",
       "    </tr>\n",
       "  </thead>\n",
       "  <tbody>\n",
       "    <tr>\n",
       "      <th>0</th>\n",
       "      <td>0</td>\n",
       "      <td>Australia</td>\n",
       "      <td>2.446616e+09</td>\n",
       "      <td>2.572618e+09</td>\n",
       "      <td>5.019235e+09</td>\n",
       "      <td>-35.266666666666666</td>\n",
       "      <td>149.133333</td>\n",
       "      <td>Canberra</td>\n",
       "      <td>Australia</td>\n",
       "      <td>AU</td>\n",
       "    </tr>\n",
       "    <tr>\n",
       "      <th>1</th>\n",
       "      <td>1</td>\n",
       "      <td>Austria</td>\n",
       "      <td>7.840690e+08</td>\n",
       "      <td>7.702674e+08</td>\n",
       "      <td>1.554336e+09</td>\n",
       "      <td>48.2</td>\n",
       "      <td>16.366667</td>\n",
       "      <td>Vienna</td>\n",
       "      <td>Europe</td>\n",
       "      <td>AT</td>\n",
       "    </tr>\n",
       "    <tr>\n",
       "      <th>2</th>\n",
       "      <td>2</td>\n",
       "      <td>Belgium</td>\n",
       "      <td>2.144445e+09</td>\n",
       "      <td>1.843462e+08</td>\n",
       "      <td>2.328792e+09</td>\n",
       "      <td>50.833333333333336</td>\n",
       "      <td>4.333333</td>\n",
       "      <td>Brussels</td>\n",
       "      <td>Europe</td>\n",
       "      <td>BE</td>\n",
       "    </tr>\n",
       "    <tr>\n",
       "      <th>3</th>\n",
       "      <td>3</td>\n",
       "      <td>Brazil</td>\n",
       "      <td>1.134440e+06</td>\n",
       "      <td>3.660726e+10</td>\n",
       "      <td>3.660839e+10</td>\n",
       "      <td>-15.783333333333333</td>\n",
       "      <td>-47.916667</td>\n",
       "      <td>Brasilia</td>\n",
       "      <td>South America</td>\n",
       "      <td>BR</td>\n",
       "    </tr>\n",
       "    <tr>\n",
       "      <th>4</th>\n",
       "      <td>4</td>\n",
       "      <td>Canada</td>\n",
       "      <td>7.466338e+09</td>\n",
       "      <td>4.068653e+09</td>\n",
       "      <td>1.153499e+10</td>\n",
       "      <td>45.416666666666664</td>\n",
       "      <td>-75.700000</td>\n",
       "      <td>Ottawa</td>\n",
       "      <td>Central America</td>\n",
       "      <td>CA</td>\n",
       "    </tr>\n",
       "  </tbody>\n",
       "</table>\n",
       "</div>"
      ],
      "text/plain": [
       "   Unnamed: 0    Country  AmountDonated  AmountReceived         Total  \\\n",
       "0           0  Australia   2.446616e+09    2.572618e+09  5.019235e+09   \n",
       "1           1    Austria   7.840690e+08    7.702674e+08  1.554336e+09   \n",
       "2           2    Belgium   2.144445e+09    1.843462e+08  2.328792e+09   \n",
       "3           3     Brazil   1.134440e+06    3.660726e+10  3.660839e+10   \n",
       "4           4     Canada   7.466338e+09    4.068653e+09  1.153499e+10   \n",
       "\n",
       "       CapitalLatitude  CapitalLongitude CapitalName    ContinentName  \\\n",
       "0  -35.266666666666666        149.133333    Canberra        Australia   \n",
       "1                 48.2         16.366667      Vienna           Europe   \n",
       "2   50.833333333333336          4.333333    Brussels           Europe   \n",
       "3  -15.783333333333333        -47.916667    Brasilia    South America   \n",
       "4   45.416666666666664        -75.700000      Ottawa  Central America   \n",
       "\n",
       "  CountryCode  \n",
       "0          AU  \n",
       "1          AT  \n",
       "2          BE  \n",
       "3          BR  \n",
       "4          CA  "
      ]
     },
     "execution_count": 11,
     "metadata": {},
     "output_type": "execute_result"
    }
   ],
   "source": [
    "result.head()"
   ]
  }
 ],
 "metadata": {
  "kernelspec": {
   "display_name": "Python 2",
   "language": "python",
   "name": "python2"
  },
  "language_info": {
   "codemirror_mode": {
    "name": "ipython",
    "version": 2
   },
   "file_extension": ".py",
   "mimetype": "text/x-python",
   "name": "python",
   "nbconvert_exporter": "python",
   "pygments_lexer": "ipython2",
   "version": "2.7.15"
  }
 },
 "nbformat": 4,
 "nbformat_minor": 2
}
