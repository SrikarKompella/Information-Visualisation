{
 "cells": [
  {
   "cell_type": "code",
   "execution_count": 2,
   "metadata": {},
   "outputs": [],
   "source": [
    "import pandas as pd"
   ]
  },
  {
   "cell_type": "code",
   "execution_count": 4,
   "metadata": {},
   "outputs": [],
   "source": [
    "aiddata = pd.read_csv(\"/Users/Bayernlad/Desktop/InfoViz/Viz1/Q2/Viz2Data1.csv\")\n",
    "aiddata.loc[21, 'Country'] = \"South Korea\"\n",
    "aiddata.loc[36,'Country']=\"Slovakia\""
   ]
  },
  {
   "cell_type": "code",
   "execution_count": 5,
   "metadata": {},
   "outputs": [
    {
     "name": "stdout",
     "output_type": "stream",
     "text": [
      "    Unnamed: 0               Country  AmountDonated  AmountReceived  \\\n",
      "0            0             Australia   2.446616e+09    2.572618e+09   \n",
      "1            1               Austria   7.840690e+08    7.702674e+08   \n",
      "2            2               Belgium   2.144445e+09    1.843462e+08   \n",
      "3            3                Brazil   1.134440e+06    3.660726e+10   \n",
      "4            4                Canada   7.466338e+09    4.068653e+09   \n",
      "5            5                 Chile   5.643490e+05    7.334129e+09   \n",
      "6            6              Colombia   1.907950e+05    2.553054e+10   \n",
      "7            7                Cyprus   5.599000e+03    9.681549e+08   \n",
      "8            8        Czech Republic   8.930435e+06    2.141913e+09   \n",
      "9            9               Denmark   2.952416e+09    1.663106e+08   \n",
      "10          10               Estonia   2.789420e+05    2.513495e+08   \n",
      "11          11               Finland   6.659534e+08    1.806955e+08   \n",
      "12          12                France   1.545646e+10    2.375409e+08   \n",
      "13          13               Germany   4.721844e+10    6.016400e+04   \n",
      "14          14                Greece   3.266718e+07    5.193779e+08   \n",
      "15          15               Hungary   3.245520e+05    2.925327e+09   \n",
      "16          16               Iceland   1.725010e+05    1.806004e+07   \n",
      "17          17                 India   0.000000e+00    1.339805e+11   \n",
      "18          18               Ireland   2.951445e+08    9.346387e+08   \n",
      "19          19                 Italy   3.835656e+09    2.400826e+09   \n",
      "20          20                 Japan   1.141823e+11    2.081102e+09   \n",
      "21          21           South Korea   1.299048e+09    2.529432e+10   \n",
      "22          22                Kuwait   1.369078e+09    7.771540e+09   \n",
      "23          23                Latvia   0.000000e+00    4.234950e+08   \n",
      "24          24         Liechtenstein   4.370700e+06    1.839308e+07   \n",
      "25          25             Lithuania   0.000000e+00    5.141433e+08   \n",
      "26          26            Luxembourg   1.115540e+08    5.550398e+08   \n",
      "27          27                Monaco   9.413870e+05    0.000000e+00   \n",
      "28          28           Netherlands   8.939647e+09    0.000000e+00   \n",
      "29          29           New Zealand   5.674988e+07    2.255883e+08   \n",
      "30          30                Norway   4.416814e+09    3.680020e+08   \n",
      "31          31                Poland   4.031840e+05    2.451723e+10   \n",
      "32          32              Portugal   6.890087e+07    1.752426e+08   \n",
      "33          33                 Qatar   1.045191e+08    7.337837e+08   \n",
      "34          34               Romania   0.000000e+00    3.329060e+09   \n",
      "35          35          Saudi Arabia   1.698411e+09    4.877749e+09   \n",
      "36          36              Slovakia   3.955740e+05    8.211956e+08   \n",
      "37          37              Slovenia   1.500280e+05    2.254352e+08   \n",
      "38          38          South Africa   0.000000e+00    1.865556e+10   \n",
      "39          39                 Spain   2.014696e+09    5.617118e+08   \n",
      "40          40                Sweden   6.364046e+09    5.975716e+07   \n",
      "41          41           Switzerland   2.844088e+09    3.267830e+05   \n",
      "42          42                Taiwan   8.373750e+07    3.399554e+09   \n",
      "43          43              Thailand   2.546100e+04    4.904132e+10   \n",
      "44          44  United Arab Emirates   6.763699e+07    3.002065e+08   \n",
      "45          45        United Kingdom   2.369054e+10    9.573440e+08   \n",
      "46          46         United States   1.161763e+11    1.045250e+08   \n",
      "\n",
      "           Total  \n",
      "0   5.019235e+09  \n",
      "1   1.554336e+09  \n",
      "2   2.328792e+09  \n",
      "3   3.660839e+10  \n",
      "4   1.153499e+10  \n",
      "5   7.334693e+09  \n",
      "6   2.553073e+10  \n",
      "7   9.681605e+08  \n",
      "8   2.150844e+09  \n",
      "9   3.118727e+09  \n",
      "10  2.516284e+08  \n",
      "11  8.466489e+08  \n",
      "12  1.569400e+10  \n",
      "13  4.721850e+10  \n",
      "14  5.520451e+08  \n",
      "15  2.925652e+09  \n",
      "16  1.823255e+07  \n",
      "17  1.339805e+11  \n",
      "18  1.229783e+09  \n",
      "19  6.236482e+09  \n",
      "20  1.162634e+11  \n",
      "21  2.659337e+10  \n",
      "22  9.140618e+09  \n",
      "23  4.234950e+08  \n",
      "24  2.276378e+07  \n",
      "25  5.141433e+08  \n",
      "26  6.665939e+08  \n",
      "27  9.413870e+05  \n",
      "28  8.939647e+09  \n",
      "29  2.823382e+08  \n",
      "30  4.784816e+09  \n",
      "31  2.451763e+10  \n",
      "32  2.441435e+08  \n",
      "33  8.383028e+08  \n",
      "34  3.329060e+09  \n",
      "35  6.576160e+09  \n",
      "36  8.215912e+08  \n",
      "37  2.255852e+08  \n",
      "38  1.865556e+10  \n",
      "39  2.576408e+09  \n",
      "40  6.423803e+09  \n",
      "41  2.844415e+09  \n",
      "42  3.483292e+09  \n",
      "43  4.904134e+10  \n",
      "44  3.678435e+08  \n",
      "45  2.464788e+10  \n",
      "46  1.162809e+11  \n"
     ]
    }
   ],
   "source": [
    "print(aiddata)"
   ]
  },
  {
   "cell_type": "code",
   "execution_count": 43,
   "metadata": {},
   "outputs": [],
   "source": [
    "countrydata = pd.read_json('/Users/Bayernlad/Downloads/InfoViz/InfoViz-master/Mini1/capital-geo.json')"
   ]
  },
  {
   "cell_type": "code",
   "execution_count": 44,
   "metadata": {},
   "outputs": [],
   "source": [
    "countrydata=countrydata.rename(columns={'CountryName':'Country'})"
   ]
  },
  {
   "cell_type": "code",
   "execution_count": null,
   "metadata": {},
   "outputs": [],
   "source": []
  },
  {
   "cell_type": "code",
   "execution_count": 45,
   "metadata": {},
   "outputs": [],
   "source": [
    "result = pd.merge(aiddata,\n",
    "                 countrydata,\n",
    "                 on='Country')"
   ]
  },
  {
   "cell_type": "code",
   "execution_count": 46,
   "metadata": {},
   "outputs": [],
   "source": [
    "result.to_csv('Viz2data.csv')"
   ]
  },
  {
   "cell_type": "code",
   "execution_count": null,
   "metadata": {},
   "outputs": [],
   "source": []
  }
 ],
 "metadata": {
  "kernelspec": {
   "display_name": "Python 2",
   "language": "python",
   "name": "python2"
  },
  "language_info": {
   "codemirror_mode": {
    "name": "ipython",
    "version": 2
   },
   "file_extension": ".py",
   "mimetype": "text/x-python",
   "name": "python",
   "nbconvert_exporter": "python",
   "pygments_lexer": "ipython2",
   "version": "2.7.15"
  }
 },
 "nbformat": 4,
 "nbformat_minor": 2
}
